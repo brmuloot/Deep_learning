{
 "cells": [
  {
   "cell_type": "markdown",
   "id": "95e8f5f0",
   "metadata": {},
   "source": [
    "# Exercice 1"
   ]
  },
  {
   "cell_type": "code",
   "execution_count": 66,
   "id": "8d6649b1",
   "metadata": {},
   "outputs": [],
   "source": [
    "# Importation des librairie\n",
    "from numpy import exp"
   ]
  },
  {
   "cell_type": "markdown",
   "id": "979d72d8",
   "metadata": {},
   "source": [
    "## 1/"
   ]
  },
  {
   "cell_type": "code",
   "execution_count": 48,
   "id": "fd1aff73",
   "metadata": {},
   "outputs": [],
   "source": [
    "X = [1, -3.1, -7.2, 2.1]"
   ]
  },
  {
   "cell_type": "code",
   "execution_count": 55,
   "id": "e7df73e3",
   "metadata": {},
   "outputs": [],
   "source": [
    "def lin_reg1(X):\n",
    "    return ((X[0]*2.1 - (-3)) + (X[1]*1.2- (-3)) + (X[2]*0.3 - (-3)) + (X[3]*1.3 - (-3)))"
   ]
  },
  {
   "cell_type": "code",
   "execution_count": 56,
   "id": "e2a42201",
   "metadata": {},
   "outputs": [],
   "source": [
    "x = lin_reg1(X)"
   ]
  },
  {
   "cell_type": "markdown",
   "id": "ca4dc519",
   "metadata": {},
   "source": [
    "## 2/"
   ]
  },
  {
   "cell_type": "code",
   "execution_count": 57,
   "id": "9c8e31e8",
   "metadata": {},
   "outputs": [],
   "source": [
    "def relu(x):\n",
    "    if x >= 0:\n",
    "        return x\n",
    "    else:\n",
    "        return 0"
   ]
  },
  {
   "cell_type": "code",
   "execution_count": 58,
   "id": "181e72bb",
   "metadata": {},
   "outputs": [
    {
     "data": {
      "text/plain": [
       "10.95"
      ]
     },
     "execution_count": 58,
     "metadata": {},
     "output_type": "execute_result"
    }
   ],
   "source": [
    "out_1 = relu(x)\n",
    "out_1"
   ]
  },
  {
   "cell_type": "markdown",
   "id": "7e7a72f0",
   "metadata": {},
   "source": [
    "## 3/"
   ]
  },
  {
   "cell_type": "code",
   "execution_count": 61,
   "id": "e68f8fbd",
   "metadata": {},
   "outputs": [
    {
     "data": {
      "text/plain": [
       "0"
      ]
     },
     "execution_count": 61,
     "metadata": {},
     "output_type": "execute_result"
    }
   ],
   "source": [
    "def lin_reg2(X):\n",
    "    return ((X[0]*0.1 - (-5)) + (X[1]*1.2- (-5)) + (X[2]*4.9 - (-5)) + (X[3]*3.1 - (-5)))\n",
    "x2 = lin_reg2(X)\n",
    "out_2 = relu(x2)\n",
    "out_2"
   ]
  },
  {
   "cell_type": "code",
   "execution_count": 63,
   "id": "dc86ce71",
   "metadata": {},
   "outputs": [
    {
     "data": {
      "text/plain": [
       "14.32"
      ]
     },
     "execution_count": 63,
     "metadata": {},
     "output_type": "execute_result"
    }
   ],
   "source": [
    "def lin_reg3(X):\n",
    "    return ((X[0]*0.4 - (-8)) + (X[1]*2.6- (-8)) + (X[2]*2.5 - (-8)) + (X[3]*3.8 - (-8)))\n",
    "x3 = lin_reg3(X)\n",
    "out_3 = relu(x3)\n",
    "out_3"
   ]
  },
  {
   "cell_type": "markdown",
   "id": "8d2adc03",
   "metadata": {},
   "source": [
    "## 4/"
   ]
  },
  {
   "cell_type": "code",
   "execution_count": 70,
   "id": "efd43f08",
   "metadata": {},
   "outputs": [
    {
     "data": {
      "text/plain": [
       "0.998852475405914"
      ]
     },
     "execution_count": 70,
     "metadata": {},
     "output_type": "execute_result"
    }
   ],
   "source": [
    "X = [out_1, out_2, out_3]\n",
    "def linreg_next_layer(X):\n",
    "    return ((X[0]*1.1-5.1)+(X[1]*(-4.1)-5.1)+(X[2]*0.7-5.1))\n",
    "def next_layer(x):\n",
    "    return 1/(1 + exp(-x))\n",
    "y_pred = next_layer(linreg_next_layer(X))\n",
    "y_pred"
   ]
  }
 ],
 "metadata": {
  "kernelspec": {
   "display_name": "Python 3 (ipykernel)",
   "language": "python",
   "name": "python3"
  },
  "language_info": {
   "codemirror_mode": {
    "name": "ipython",
    "version": 3
   },
   "file_extension": ".py",
   "mimetype": "text/x-python",
   "name": "python",
   "nbconvert_exporter": "python",
   "pygments_lexer": "ipython3",
   "version": "3.9.12"
  }
 },
 "nbformat": 4,
 "nbformat_minor": 5
}
